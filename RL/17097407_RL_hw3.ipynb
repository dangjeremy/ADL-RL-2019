{
  "nbformat": 4,
  "nbformat_minor": 0,
  "metadata": {
    "colab": {
      "name": "17097407_RL_hw3.ipynb",
      "version": "0.3.2",
      "provenance": [],
      "collapsed_sections": [
        "nVBcO5mAV9Ow",
        "Z1p0fpbxQLyn",
        "eFnvhnKlWN_Z",
        "3lpweIqAWBX3"
      ]
    },
    "kernelspec": {
      "name": "python2",
      "display_name": "Python 2"
    }
  },
  "cells": [
    {
      "metadata": {
        "colab_type": "text",
        "id": "pYs6LMEbNqoQ"
      },
      "cell_type": "markdown",
      "source": [
        "# RL homework 3\n",
        "\n",
        "-------------------------------\n",
        "\n",
        "\n",
        "**Name:** Jeremy Dang\n",
        "\n",
        "**SN:** 17097407\n",
        "\n",
        "-----------------------------------\n",
        "\n",
        "\n",
        "**Due date:** *April 8, 2019, 9:00 am*\n",
        "\n",
        "------------------------------------\n",
        "\n",
        "## How to Submit\n",
        "\n",
        "When you have completed the exercises and everything has finsihed running, click on 'File' in the menu-bar and then 'Download .ipynb'. This file must be submitted to Moodle named as **studentnumber_RL_hw3.ipynb** before the deadline above."
      ]
    },
    {
      "metadata": {
        "colab_type": "text",
        "id": "rNuohp44N00i"
      },
      "cell_type": "markdown",
      "source": [
        "# The Assignment\n",
        "\n",
        "### Objectives\n",
        "\n",
        "#### Part 1:\n",
        "You will analyse the learning dynamics of a simple MRP with linear function approximation **[30 pts]**\n",
        "\n",
        "#### Part 2:\n",
        "You will use Python to implement several reinforcement learning algorithms and you will answer a few question about the performance of these algorithms **[55pts]**.\n",
        "\n",
        "#### Part 3:\n",
        "\n",
        "Analyse optimal values and policies in a small partially observable environment **[15pts]**.\n",
        "\n"
      ]
    },
    {
      "metadata": {
        "colab_type": "text",
        "id": "nVBcO5mAV9Ow"
      },
      "cell_type": "markdown",
      "source": [
        "# Setup"
      ]
    },
    {
      "metadata": {
        "colab_type": "text",
        "id": "Z1p0fpbxQLyn"
      },
      "cell_type": "markdown",
      "source": [
        "## Imports"
      ]
    },
    {
      "metadata": {
        "colab_type": "code",
        "id": "Ps5OnkPmDbMX",
        "outputId": "fd7df544-9e9b-4273-d2f3-78eed52d46a2",
        "colab": {
          "base_uri": "https://localhost:8080/",
          "height": 161
        }
      },
      "cell_type": "code",
      "source": [
        "import matplotlib.pyplot as plt\n",
        "import numpy as np\n",
        "import sonnet as snt\n",
        "import tensorflow as tf\n",
        "from collections import namedtuple\n",
        "\n",
        "np.set_printoptions(precision=3, suppress=1)\n",
        "plt.style.use('seaborn-notebook')"
      ],
      "execution_count": 0,
      "outputs": [
        {
          "output_type": "stream",
          "text": [
            "\n",
            "WARNING: The TensorFlow contrib module will not be included in TensorFlow 2.0.\n",
            "For more information, please see:\n",
            "  * https://github.com/tensorflow/community/blob/master/rfcs/20180907-contrib-sunset.md\n",
            "  * https://github.com/tensorflow/addons\n",
            "If you depend on functionality not listed there, please file an issue.\n",
            "\n"
          ],
          "name": "stdout"
        }
      ]
    },
    {
      "metadata": {
        "colab_type": "text",
        "id": "eFnvhnKlWN_Z"
      },
      "cell_type": "markdown",
      "source": [
        "## Gridworlds"
      ]
    },
    {
      "metadata": {
        "cellView": "both",
        "colab_type": "code",
        "id": "e5VkDWDTWNHE",
        "colab": {}
      },
      "cell_type": "code",
      "source": [
        "#@title Implementation\n",
        "class Grid(object):\n",
        "\n",
        "  def __init__(self, discount=0.9):\n",
        "    # -1: wall\n",
        "    # 0: empty, episode continues\n",
        "    # other: number indicates reward, episode will terminate\n",
        "    self._layout = np.array([\n",
        "      [-1, -1, -1, -1, -1, -1, -1, -1, -1, -1],\n",
        "      [-1,  0,  0,  0,  0,  0,  0,  0,  0, -1],\n",
        "      [-1,  0,  0,  0, -1, -1,  0,  0, 10, -1],\n",
        "      [-1,  0,  0,  0, -1, -1,  0,  0,  0, -1],\n",
        "      [-1,  0,  0,  0, -1, -1,  0,  0,  0, -1],\n",
        "      [-1,  0,  0,  0,  0,  0,  0,  0,  0, -1],\n",
        "      [-1,  0,  0,  0,  0,  0,  0,  0,  0, -1],\n",
        "      [-1,  0,  0,  0,  0,  0,  0,  0,  0, -1],\n",
        "      [-1, -1, -1, -1, -1, -1, -1, -1, -1, -1]\n",
        "    ])\n",
        "    self._start_state = (2, 2)\n",
        "    self._goal_state = (8, 2)\n",
        "    self._state = self._start_state\n",
        "    self._number_of_states = np.prod(np.shape(self._layout))\n",
        "    self._discount = discount\n",
        "\n",
        "  @property\n",
        "  def number_of_states(self):\n",
        "      return self._number_of_states\n",
        "    \n",
        "  def plot_grid(self):\n",
        "    plt.figure(figsize=(3, 3))\n",
        "    plt.imshow(self._layout > -1, interpolation=\"nearest\", cmap = \"pink\")     \n",
        "    ax = plt.gca()\n",
        "    ax.grid(0)\n",
        "    plt.xticks([])\n",
        "    plt.yticks([])\n",
        "    plt.title(\"The grid\")\n",
        "    plt.text(\n",
        "        self._start_state[0], self._start_state[1], \n",
        "        r\"$\\mathbf{S}$\", ha='center', va='center')\n",
        "    plt.text(\n",
        "        self._goal_state[0], self._goal_state[1], \n",
        "        r\"$\\mathbf{G}$\", ha='center', va='center')\n",
        "    h, w = self._layout.shape\n",
        "    for y in range(h-1):\n",
        "      plt.plot([-0.5, w-0.5], [y+0.5, y+0.5], '-k', lw=2)\n",
        "    for x in range(w-1):\n",
        "      plt.plot([x+0.5, x+0.5], [-0.5, h-0.5], '-k', lw=2)\n",
        "\n",
        "  \n",
        "  def get_obs(self):\n",
        "    y, x = self._state\n",
        "    return y*self._layout.shape[1] + x\n",
        "  \n",
        "  def int_to_state(self, int_obs):\n",
        "    x = int_obs % self._layout.shape[1]\n",
        "    y = int_obs // self._layout.shape[1]\n",
        "    return y, x\n",
        "\n",
        "  def step(self, action):\n",
        "    y, x = self._state\n",
        "\n",
        "    if action == 0:  # up\n",
        "      new_state = (y - 1, x)\n",
        "    elif action == 1:  # right\n",
        "      new_state = (y, x + 1)\n",
        "    elif action == 2:  # down\n",
        "      new_state = (y + 1, x)\n",
        "    elif action == 3:  # left\n",
        "      new_state = (y, x - 1)\n",
        "    else:\n",
        "      raise ValueError(\"Invalid action: {} is not 0, 1, 2, or 3.\".format(action))\n",
        "\n",
        "    new_y, new_x = new_state\n",
        "    if self._layout[new_y, new_x] == -1:  # wall\n",
        "      reward = -5.\n",
        "      discount = self._discount\n",
        "      new_state = (y, x)\n",
        "    elif self._layout[new_y, new_x] == 0:  # empty cell\n",
        "      reward = 0.\n",
        "      discount = self._discount\n",
        "    else:  # a goal\n",
        "      reward = self._layout[new_y, new_x]\n",
        "      discount = 0.\n",
        "      new_state = self._start_state\n",
        "    \n",
        "    self._state = new_state\n",
        "    return reward, discount, self.get_obs()\n",
        "  \n",
        "class AltGrid(Grid):\n",
        "  \n",
        "    def __init__(self, discount=0.9):\n",
        "      # -1: wall\n",
        "      # 0: empty, episode continues\n",
        "      # other: number indicates reward, episode will terminate\n",
        "      self._layout = np.array([\n",
        "        [-1, -1, -1, -1, -1, -1, -1, -1, -1, -1],\n",
        "        [-1,  0,  0,  0,  0,  0,  0,  0,  0, -1],\n",
        "        [-1,  0,  0,  0, -1, -1,  0,  0,  0, -1],\n",
        "        [-1,  0,  0,  0, -1, -1,  0,  0,  0, -1],\n",
        "        [-1,  0,  0,  0, -1, -1,  0,  0,  0, -1],\n",
        "        [-1,  0,  0,  0,  0,  0,  0,  0,  0, -1],\n",
        "        [-1,  0,  0,  0,  0,  0,  0,  0,  0, -1],\n",
        "        [-1,  0, 10,  0,  0,  0,  0,  0,  0, -1],\n",
        "        [-1, -1, -1, -1, -1, -1, -1, -1, -1, -1]\n",
        "      ])\n",
        "      self._start_state = (2, 2)\n",
        "      self._goal_state = (2, 7)\n",
        "      self._state = self._start_state\n",
        "      self._number_of_states = np.prod(np.shape(self._layout))\n",
        "      self._discount = discount\n",
        "\n",
        "class FeatureGrid(Grid):\n",
        "  \n",
        "  def get_obs(self):\n",
        "    return self.state_to_features(self._state)\n",
        "  \n",
        "  def state_to_features(self, state):\n",
        "    y, x = state\n",
        "    x /= float(self._layout.shape[1] - 1)\n",
        "    y /= float(self._layout.shape[0] - 1)\n",
        "    markers = np.arange(0.1, 1.0, 0.1)\n",
        "    features = np.array([np.exp(-40*((x - m)**2+(y - n)**2))\n",
        "                         for m in markers\n",
        "                         for n in markers] + [1.])\n",
        "    return features / np.sum(features**2)\n",
        "  \n",
        "  def int_to_features(self, int_state):\n",
        "    return self.state_to_features(self.int_to_state(int_state))\n",
        "  \n",
        "  @property\n",
        "  def number_of_features(self):\n",
        "      return len(self.get_obs())"
      ],
      "execution_count": 0,
      "outputs": []
    },
    {
      "metadata": {
        "cellView": "both",
        "colab_type": "code",
        "id": "zV0NxnIyWVtu",
        "outputId": "25e44f40-c590-4812-bd4c-3696ed2fb94e",
        "colab": {
          "base_uri": "https://localhost:8080/",
          "height": 816
        }
      },
      "cell_type": "code",
      "source": [
        "#@title Show gridworlds\n",
        "\n",
        "# Plot tabular environments\n",
        "grid = Grid()\n",
        "alt_grid = AltGrid()\n",
        "print(\"A grid world\")\n",
        "grid.plot_grid()\n",
        "plt.show()\n",
        "print(\"\\nAn alternative grid world\")\n",
        "alt_grid.plot_grid()\n",
        "plt.show()\n",
        "\n",
        "# Plot features of each state for non tabular version of the environment.\n",
        "print(\n",
        "    \"\\nFeatures (visualised as 9x9 heatmaps) for different locations in the grid\"\n",
        "    \"\\n(Note: includes unreachable states that coincide with walls in this visualisation.)\"\n",
        ")\n",
        "feat_grid = FeatureGrid()\n",
        "shape = feat_grid._layout.shape\n",
        "f, axes = plt.subplots(shape[0], shape[1])\n",
        "for state_idx, ax in enumerate(axes.flatten()):\n",
        "  ax.imshow(np.reshape((feat_grid.int_to_features(state_idx)[:-1]),(9,9)), interpolation='nearest')\n",
        "  ax.set_xticks([])\n",
        "  ax.set_yticks([])\n",
        "plt.show()"
      ],
      "execution_count": 0,
      "outputs": [
        {
          "output_type": "stream",
          "text": [
            "A grid world\n"
          ],
          "name": "stdout"
        },
        {
          "output_type": "display_data",
          "data": {
            "image/png": "[encoded data removed]",
            "text/plain": [
              "<Figure size 216x216 with 1 Axes>"
            ]
          },
          "metadata": {
            "tags": []
          }
        },
        {
          "output_type": "stream",
          "text": [
            "\n",
            "An alternative grid world\n"
          ],
          "name": "stdout"
        },
        {
          "output_type": "display_data",
          "data": {
            "image/png": "[encoded data removed]",
            "text/plain": [
              "<Figure size 216x216 with 1 Axes>"
            ]
          },
          "metadata": {
            "tags": []
          }
        },
        {
          "output_type": "stream",
          "text": [
            "\n",
            "Features (visualised as 9x9 heatmaps) for different locations in the grid\n",
            "(Note: includes unreachable states that coincide with walls in this visualisation.)\n"
          ],
          "name": "stdout"
        },
        {
          "output_type": "display_data",
          "data": {
            "image/png": "[encoded data removed]",
            "text/plain": [
              "<Figure size 576x396 with 90 Axes>"
            ]
          },
          "metadata": {
            "tags": []
          }
        }
      ]
    },
    {
      "metadata": {
        "colab_type": "text",
        "id": "3lpweIqAWBX3"
      },
      "cell_type": "markdown",
      "source": [
        "## Helpers"
      ]
    },
    {
      "metadata": {
        "colab_type": "code",
        "id": "95Ly2AaMWA5e",
        "colab": {}
      },
      "cell_type": "code",
      "source": [
        "def run_experiment(env, agent, number_of_steps):\n",
        "    mean_reward = 0.\n",
        "    try:\n",
        "      action = agent.initial_action()\n",
        "    except AttributeError:\n",
        "      action = 0\n",
        "    for i in range(number_of_steps):\n",
        "      reward, discount, next_state = env.step(action)\n",
        "      action = agent.step(reward, discount, next_state)\n",
        "      mean_reward += (reward - mean_reward)/(i + 1.)\n",
        "\n",
        "    return mean_reward\n",
        "  \n",
        "map_from_action_to_subplot = lambda a: (2, 6, 8, 4)[a]\n",
        "map_from_action_to_name = lambda a: (\"up\", \"right\", \"down\", \"left\")[a]\n",
        "\n",
        "def plot_rewards(xs, rewards, color):\n",
        "  mean = np.mean(rewards, axis=0)\n",
        "  p90 = np.percentile(rewards, 90, axis=0)\n",
        "  p10 = np.percentile(rewards, 10, axis=0)\n",
        "  plt.plot(xs, mean, color=color, alpha=0.6)\n",
        "  plt.fill_between(xs, p90, p10, color=color, alpha=0.3)\n",
        "\n",
        "def plot_values(values, colormap='pink', vmin=-1, vmax=10):\n",
        "  plt.imshow(values, interpolation=\"nearest\", cmap=colormap, vmin=vmin, vmax=vmax)\n",
        "  plt.yticks([])\n",
        "  plt.xticks([])\n",
        "  plt.colorbar(ticks=[vmin, vmax])\n",
        "\n",
        "def plot_state_value(action_values):\n",
        "  q = action_values\n",
        "  fig = plt.figure(figsize=(4, 4))\n",
        "  vmin = np.min(action_values)\n",
        "  vmax = np.max(action_values)\n",
        "  v = 0.9 * np.max(q, axis=-1) + 0.1 * np.mean(q, axis=-1)\n",
        "  plot_values(v, colormap='summer', vmin=vmin, vmax=vmax)\n",
        "  plt.title(\"$v(s)$\")\n",
        "\n",
        "def plot_action_values(action_values):\n",
        "  q = action_values\n",
        "  fig = plt.figure(figsize=(8, 8))\n",
        "  fig.subplots_adjust(wspace=0.3, hspace=0.3)\n",
        "  vmin = np.min(action_values)\n",
        "  vmax = np.max(action_values)\n",
        "  dif = vmax - vmin\n",
        "  for a in [0, 1, 2, 3]:\n",
        "    plt.subplot(3, 3, map_from_action_to_subplot(a))\n",
        "    \n",
        "    plot_values(q[..., a], vmin=vmin - 0.05*dif, vmax=vmax + 0.05*dif)\n",
        "    action_name = map_from_action_to_name(a)\n",
        "    plt.title(r\"$q(s, \\mathrm{\" + action_name + r\"})$\")\n",
        "    \n",
        "  plt.subplot(3, 3, 5)\n",
        "  v = 0.9 * np.max(q, axis=-1) + 0.1 * np.mean(q, axis=-1)\n",
        "  plot_values(v, colormap='summer', vmin=vmin, vmax=vmax)\n",
        "  plt.title(\"$v(s)$\")\n",
        "\n",
        "def parameter_study(parameter_values, parameter_name,\n",
        "  agent_constructor, env_constructor, color, repetitions=10, number_of_steps=int(1e4)):\n",
        "  mean_rewards = np.zeros((repetitions, len(parameter_values)))\n",
        "  greedy_rewards = np.zeros((repetitions, len(parameter_values)))\n",
        "  for rep in range(repetitions):\n",
        "    for i, p in enumerate(parameter_values):\n",
        "      env = env_constructor()\n",
        "      agent = agent_constructor()\n",
        "      if 'eps' in parameter_name:\n",
        "        agent.set_epsilon(p)\n",
        "      elif 'alpha' in parameter_name:\n",
        "        agent._step_size = p\n",
        "      else:\n",
        "        raise NameError(\"Unknown parameter_name: {}\".format(parameter_name))\n",
        "      mean_rewards[rep, i] = run_experiment(grid, agent, number_of_steps)\n",
        "      agent.set_epsilon(0.)\n",
        "      agent._step_size = 0.\n",
        "      greedy_rewards[rep, i] = run_experiment(grid, agent, number_of_steps//10)\n",
        "      del env\n",
        "      del agent\n",
        "\n",
        "  plt.subplot(1, 2, 1)\n",
        "  plot_rewards(parameter_values, mean_rewards, color)\n",
        "  plt.yticks=([0, 1], [0, 1])\n",
        "  plt.ylabel(\"Average reward over first {} steps\".format(number_of_steps), size=12)\n",
        "  plt.xlabel(parameter_name, size=12)\n",
        "\n",
        "  plt.subplot(1, 2, 2)\n",
        "  plot_rewards(parameter_values, greedy_rewards, color)\n",
        "  plt.yticks=([0, 1], [0, 1])\n",
        "  plt.ylabel(\"Final rewards, with greedy policy\".format(number_of_steps), size=12)\n",
        "  plt.xlabel(parameter_name, size=12)\n",
        "  \n",
        "def random_policy(q):\n",
        "  return np.random.randint(4)\n",
        "\n",
        "def epsilon_greedy(q_values, epsilon):\n",
        "  if epsilon < np.random.random():\n",
        "    return np.argmax(q_values)\n",
        "  else:\n",
        "    return np.random.randint(np.array(q_values).shape[-1])\n",
        "\n",
        "def plot_greedy_policy(grid, q):\n",
        "  action_names = [r\"$\\uparrow$\",r\"$\\rightarrow$\", r\"$\\downarrow$\", r\"$\\leftarrow$\"]\n",
        "  greedy_actions = np.argmax(q, axis=2)\n",
        "  grid.plot_grid()\n",
        "  plt.hold('on')\n",
        "  for i in range(9):\n",
        "    for j in range(10):\n",
        "      action_name = action_names[greedy_actions[i,j]]\n",
        "      plt.text(j, i, action_name, ha='center', va='center')\n",
        "\n",
        "def plot_greedy_policy_v2(grid, pi):\n",
        "  action_names = [r\"$\\uparrow$\",r\"$\\rightarrow$\", r\"$\\downarrow$\", r\"$\\leftarrow$\"]\n",
        "  greedy_actions = np.argmax(pi, axis=2)\n",
        "  grid.plot_grid()\n",
        "  plt.hold('on')\n",
        "\n",
        "  h, w = grid._layout.shape\n",
        "  for y in range(2, h-2):\n",
        "    for x in range(2, w-2):\n",
        "      action_name = action_names[greedy_actions[y-2, x-2]]\n",
        "      plt.text(x, y, action_name, ha='center', va='center')"
      ],
      "execution_count": 0,
      "outputs": []
    },
    {
      "metadata": {
        "colab_type": "text",
        "id": "7OsOmObvq1Io"
      },
      "cell_type": "markdown",
      "source": [
        "# Part 1: Linear Function Approximation"
      ]
    },
    {
      "metadata": {
        "colab_type": "text",
        "id": "cN2i9bQ00LGn"
      },
      "cell_type": "markdown",
      "source": [
        "## Q1\n",
        "\n",
        "We will analyze a simple Markov reward process (an MRP is an MDP without actions or, equivalently, with just 1 action in each state).  \n",
        "\n",
        "- It consists of two states. \n",
        "- The reward is zero everywhere. \n",
        "- When we are in state $s_0$, we always transition to $s_1$. \n",
        "- If we are in state $s_1$, there is a probability $p$ of terminating, after which the next episode starts in $s_0$ again.  With a probability of $1 - p$, we transition from $s_1$ back to itself again. \n",
        "- The discount is $\\gamma = 1$ on non-terminal steps.\n",
        "\n",
        "\n"
      ]
    },
    {
      "metadata": {
        "colab_type": "text",
        "id": "GB21yu7I2cMb"
      },
      "cell_type": "markdown",
      "source": [
        "#### [1pt] Question 1.1\n",
        "What is the optimal value in each state?\n",
        "\n",
        ">- Optimal value at each state $(s_0,s_1)$ is $0$ this is because the Reward is zero everywhere and by writing out the solution to the bellman equation:\n",
        " \n",
        ">- Need to solve for $ v_i = v^{\\pi}(s_i) \\implies (\\mathbb{I}_2 - \\gamma{P}_{2\\times2})\\mathbf{v} = \\mathbf{R} $\n",
        "\n",
        ">- Where $P$ is the transition matrix.\n",
        " \n",
        "$$ \\mathbf{v} = (\\mathbb{I}_2 - \\gamma{P}_{2\\times2})^{-1}\\mathbf{R} \\implies  \\mathbf{v} = (\\mathbb{I}_2 - {P}_{2\\times2})^{-1}\\mathbf{0}_{2\\times1}  = \\mathbf{0}_{2\\times1} $$\n",
        "\n",
        "\n",
        "#### [1pt] Question 1.2\n",
        "Instead of a tabular representation, consider a single feature $\\phi$, which takes the values $\\phi(s_0) = 1$ and $\\phi(s_1) = 3$.  Now consider using linear function approximation, where we learn a value $\\theta$ such that $v_{\\theta}(s) = \\theta \\times \\phi(s) \\approx v(s)$, where $v(s)$ is the true value of state $s$.  What is the optimal value of $\\theta$?\n",
        "\n",
        "> Reading the \"Deep Reinforcement Learning and the Deadly Triad\" paper by Hasselt et al shows that even with this transformation the optimal value of $\\theta = 0$ \n",
        "\n",
        "### Online updates\n",
        "\n",
        "We now assume we generate data sampling from the MRP, starting each episode in state $s_0$ and following the environment's dynamics until episode termination. Updates are then performed online on each newly generated transition.\n",
        "\n",
        "#### [5pts] Question 1.3\n",
        "Suppose $\\theta_0 = 1$, and suppose we update this parameter online with TD(0) with a step size of $\\alpha = 0.1$.  What is the expected value of $\\mathbb{E}[ \\theta_T ]$ if we step through the MRP until it terminates after the first episode, as a function of $p$?  (Note that $T$ is random.)\n",
        "\n",
        ">- The update $\\theta$ from $s_0$ $\\rightarrow$ $s_1$ with probability $1$. This step is always determinstic and is not random.\n",
        "\n",
        "$$ \\Delta\\theta_{s_o \\rightarrow s_1} = \\alpha(R_{t+1} + \\gamma v_{\\theta}(s_{t+1}) - v_{\\theta}(s_{t}))\\nabla v_{\\theta}(s_{t})  $$\n",
        "\n",
        "\n",
        "$$ \\Delta\\theta_{s_o \\rightarrow s_1} = \\alpha(R_{1} + \\gamma v_{\\theta}(s_{1}) - v_{\\theta}(s_{0}))\\nabla v_{\\theta}(s_{0})  $$\n",
        "\n",
        "$$ \\Delta\\theta_{s_o \\rightarrow s_1} = \\alpha(0 + 3\\theta\\gamma - 1\\theta) $$\n",
        "\n",
        "$$ \\Delta\\theta_{s_o \\rightarrow s_1} = \\alpha\\theta(3\\gamma - 1) $$\n",
        "\n",
        "\n",
        ">- The Update $\\theta$ from $s_1$ $\\rightarrow$ $s_1$ with probability $1-p$\n",
        "\n",
        "$$ \\Delta\\theta_{s_1 \\rightarrow s_1} = \\alpha(R_{t+1} + \\gamma v_{\\theta}(s_{1}) - v_{\\theta}(s_{1}))\\nabla v_{\\theta}(s_{1}) $$\n",
        "\n",
        "$$ \\Delta\\theta_{s_1 \\rightarrow s_1} = \\alpha(0 + 3\\gamma \\theta - 3\\theta)3 $$\n",
        "\n",
        "$$ \\Delta\\theta_{s_1 \\rightarrow s_1} = 9\\alpha\\theta(\\gamma  - 1) $$\n",
        "\n",
        "\n",
        ">-  Finally the update $\\theta$ from $s_1$ $\\rightarrow$  $TERMINATION$ with probability $p$ is:\n",
        "\n",
        "$$ \\Delta\\theta_{s_1 \\rightarrow TERMINATION} = \\alpha(0 + 0 - v_{\\theta}(s_{t_1}))\\nabla v_{\\theta}(s_{1}) $$\n",
        "\n",
        "$$ \\Delta\\theta_{s_1 \\rightarrow TERMINATION} = \\alpha(0 + 0 - 3\\theta)3 $$\n",
        "\n",
        "$$ \\Delta\\theta_{s_1 \\rightarrow TERMINATION} = -9 \\alpha \\theta $$\n",
        "\n",
        ">- With these updates listed, we can now proceed to find $\\theta_{T}$ for some arbitrary $T$. Consider $\\theta_{1}$ given $\\theta_{0} =1$, this means that we update from $s_{0}$ $\\rightarrow$ $s_{1}$\n",
        "\n",
        "$$ \\theta_{1} = \\theta_{0} + \\Delta\\theta_{s_o \\rightarrow s_1}  $$\n",
        "\n",
        "$$ \\theta_{1} = 1 + \\alpha\\theta(3\\gamma - 1)  $$\n",
        "\n",
        "\n",
        ">- Updating $\\theta_{2} \\implies s_1 \\rightarrow s_1$. That is a second update implies we transition from $s_1$ to $s_1$ with probability $1-p$.\n",
        "\n",
        "$$ \\theta_{2} = \\theta_1 + \\Delta\\theta_{s_1 \\rightarrow s_1} $$\n",
        "\n",
        "$$ \\theta_{2} = \\theta_1 +  9\\alpha\\theta_{1}(\\gamma  - 1) $$\n",
        "\n",
        "$$ \\theta_{2} = \\theta_1(1 + 9\\alpha(\\gamma -1)) $$\n",
        "\n",
        "\n",
        ">- Now I will show what $\\theta_{3}$ is to illustrate a recursive pattern that occurs:\n",
        "\n",
        "$$ \\theta_{3} = \\theta_{2} + \\Delta\\theta_{s_1 \\rightarrow s_1}  $$\n",
        "\n",
        "$$ \\theta_{3} = \\theta_1[1 + 9\\alpha(\\gamma -1)] + 9\\alpha\\theta_{2}(\\gamma  - 1)  $$\n",
        "\n",
        "$$ \\theta_{3} = \\theta_1[1 + 9\\alpha(\\gamma -1)] + 9\\alpha\\theta_1[1 + 9\\alpha(\\gamma -1)](\\gamma  - 1)  $$\n",
        "\n",
        "$$ \\theta_{3} = \\theta_1[\\{1 + 9\\alpha(\\gamma -1)\\} + 9\\alpha\\{1 + 9\\alpha(\\gamma -1)\\}(\\gamma  - 1)]  $$\n",
        "\n",
        "$$ \\theta_{3} = \\theta_1\\{1 + 9\\alpha(\\gamma -1)\\}\\{1 + 9\\alpha(\\gamma  - 1)\\}  $$\n",
        "\n",
        "$$ \\theta_{3} = \\theta_1(1 + 9\\alpha(\\gamma  - 1))^2  $$\n",
        "\n",
        ">- For some time $t$ we therefore have the recursive relation:\n",
        "\n",
        "$$ \\theta_{t} = \\theta_1(1 + 9\\alpha(\\gamma  - 1))^{t-1}  $$\n",
        "\n",
        ">- Therefore the generalised form with termination is, this is obtained by combining the above generalised form (also reduce time step due to terminating) and doing the update $s_1 \\rightarrow TERMINATION$ :\n",
        "\n",
        "$$ \\theta_{T} = (1-9\\alpha)\\theta_1(1 + 9\\alpha(\\gamma  - 1))^{t-2} $$\n",
        "\n",
        ">-  By substituting our values for $\\gamma = 1$ and $\\alpha = 0.1$ we have:\n",
        "\n",
        "$$ \\theta_{T} = (1-9\\times 0.1)\\theta_1[(1 + 9\\times 0.1(1  - 1))^{t-2}] $$\n",
        "\n",
        "$$ \\theta_{T} = (1-0.9)[(1 + 0.1\\times 1(\\{3\\times 1\\} - 1))](1)^{t-2} $$\n",
        "\n",
        "$$ \\theta_{T} = (0.1)(1 + \\{0.1\\times 1\\times 2\\}) $$\n",
        "\n",
        "$$ \\theta_{T} = 0.1\\times 1.2 $$\n",
        "\n",
        "$$ \\theta_{T} = 0.12 \\implies \\mathbb{E}(\\theta_{T}) = 0.12 \\times p^{0}$$\n",
        "\n",
        "\n",
        "#### [5pts] Question 1.4\n",
        "If $p=0.2$, how many episodes does it take, starting from $\\theta_0 = 1$, until $| v(s) - \\mathbb{E}[v_{\\theta}(s)] | < 0.1$ for all $s$, where the expectation is over the expected updates to $\\theta$?\n",
        "\n",
        ">- We have $\\mathbb{E}[v_{\\theta}(s)] = \\mathbb{E}(\\theta \\times \\phi(s))$ and $v(s) = 0 $\n",
        "\n",
        ">- Taking expectation on the RHS gives us:\n",
        "\n",
        "$$  \\mathbb{E}(\\theta \\times \\phi(s)) =  \\mathbb{E}(\\theta)\\mathbb{E}(\\phi(s)) = 0.12 \\times 3 $$\n",
        "\n",
        ">- Since $\\theta$ is constant continually iterating for the condition $|  0.12^{t} \\times 3 | < 0.1$. Therefore after 2 episodes we have satisfied the condition.\n"
      ]
    },
    {
      "metadata": {
        "colab_type": "text",
        "id": "thlNB0Mt2fee"
      },
      "cell_type": "markdown",
      "source": [
        "#### Changing the data distribution\n",
        "Now suppose we use TD to update the parameters, but instead of using the online data, we assume we can actively sample a transition from any of the two states, and on each training step we sample a transition from the first state with probability $\\beta$ or instead a transition from the second state with probability $1-\\beta$.\n",
        "\n",
        "#### [3pts] Question 1.5\n",
        "\n",
        "What is the value of $\\mathbb{E}[\\theta_n]$, as a function of $n$, $p$ and $\\beta$?\n",
        "\n",
        ">- Taking the above updates from Q1.3 and substituting the appropriate values for $\\gamma$ and $\\alpha$:\n",
        "\n",
        "$$ \\Delta\\theta_{s_o \\rightarrow s_1} = 0.2\\theta $$\n",
        "\n",
        "$$ \\Delta\\theta_{s_1 \\rightarrow s_1} = 0 $$\n",
        "\n",
        "$$ \\Delta\\theta_{s_1 \\rightarrow TERMINATION} = -0.9 \\theta $$\n",
        "\n",
        "\n",
        ">- Consider the sampling process, we can either start at $s_0$ or at $s_1$ with probability $\\beta$ and $1-\\beta$ respectively. If we actually started at $s_0$ then we know with probability $1$ we move to $s_1$. Therefore the expected reward given that we start at $s_0$ is the following:\n",
        "\n",
        "$$ \\mathbb{E}(v_{s_0} | S = s_0) = 1 + 0.2(1) = 1.2 $$\n",
        "\n",
        ">- Similarly if we start at $s_1$ we get the following by summing up cases if we if we terminate or stay in $s_1$ with their respective probabilities and apply the definition of $\\mathbb{E}$ :\n",
        "\n",
        "$$ \\mathbb{E}(v_{s_1} | S = s_1) = p\\times (1-0.9) + (1-p)(1+0.9(1-1)) =  p - 0.9p + 1 - p = 1 - 0.9p $$\n",
        "\n",
        ">- To compute our quantity, we can model $\\mathbb{E}(\\theta_n)$  as a $Binomial$ distribution because in each time step $n$ we have a probability of $\\beta$ and $1-\\beta$ of sampling $s_0$ and $s_1$ respectively. Mathematically we then write this as $ \\theta_n \\sim Bin(n, \\beta)  $  and therefore the PMF is :\n",
        "\n",
        "$$ \\mathbb{E}(\\theta_n) = \\sum_{k}^{n} {n \\choose k}\\beta^{k}(1.2)^{k} (1-\\beta)^{n-k}(1-0.9p)^{n-k} = \\sum_{k}^{n} {n \\choose k}(1.2\\beta)^{k} ((1-\\beta)(1-0.9p))^{n-k} $$\n",
        "\n",
        ">- Then using properties of binomial expansion we have the final expression in terms of $n$, $p$, $\\beta$ as required:\n",
        "\n",
        "$$ \\mathbb{E}(\\theta_n) = (1.2\\beta + [(1-\\beta)(1-0.9p)]^{n} $$\n",
        "\n",
        "\n",
        "\n",
        "#### [5pts] Question 1.6\n",
        "\n",
        "When does $\\theta$ converge to the true solution? Give your answer as a function of $\\beta$ and $p$.\n",
        "\n",
        ">- In this scenario, to get $\\theta$ to converge to the true solution we need to sample $\\beta \\propto p$ since we are sampling transitions these may be independent of how frequent the agent visits a state and as a result this proportionality needs to exist to obtain convergence (Proven by [Tsitsiklis & Van Roy, 1997] ). In our case since we have $\\mathbb{E}(\\theta_n)$ we can make some inferences here about it's convergence.\n",
        "\n",
        "\n",
        "$$ (1.2\\beta + [(1-\\beta)(1-0.9p)]^{n} \\leq 1.2 \\text{ } \\text{By putting in largest values of } \\gamma \\text{, } \\beta$$\n",
        "\n",
        "$$ (1.2\\beta + [(1-\\beta)(1-0.9p)]  \\leq 1 \\text{ } \\text{for } n > 1 $$\n",
        "\n",
        "$$ (1 + 0.2\\beta + 0.9p(\\beta-1) \\leq 1 $$\n",
        "\n",
        "$$ (0.2\\beta + 0.9p(\\beta-1)) \\leq 0 $$\n",
        "\n",
        ">- Solving for either $\\beta$ or $p$ we get the following proportionality and applying properties of a probability that is $\\beta, p \\in [0,1]$ we can find out values for $\\beta, p$:\n",
        "\n",
        "$$ \\beta \\leq \\frac{0.9p}{0.2 + 0.9p} =  \\frac{9p}{2 + 9p} \\in [0, 0.82] $$\n",
        "\n",
        "\n",
        "#### [5pts] Question 1.7\n",
        "\n",
        "Why doesn't it always converge?\n",
        "\n",
        ">- Because the states are being randomly sampled with probablily$\\beta$ and $1-\\beta$ which is another distribution independent of the dynamics of the MRP. [Tsitsiklis & Van Roy, 1997] Explains this in more depth and demonstrates that online sampling \"that do not sample states with the frequencies natural to the Markov chain and, as a result, do not generally converge\".  \n",
        "\n",
        ">- We also have properties of the \"Deadly Triad\" since we are using Function approximation, Bootstrapping (TD methods) and off-policy training (training on a distribution of tranitions other than that produced by target policies). The combination of the three can therefore lead to divergence this was shown by Sutton et al. See page 215 in the Sutton book, Reinforcement Learning: An introduction. Especially with our dynamics - is a highlighted case that can diverge.\n",
        "\n",
        "#### [5pts] Question 1.8\n",
        "Describe one way to change the algorithm to obtain convergence of $\\theta$, for any $p$, without changing the sampling or the value function (which should remain as $v_{\\theta}(s) = \\theta \\times \\phi(s)$).  Note that the sampling is not sequential, so for instance you cannot add 'memory of the previous state', or anything like that.\n",
        "\n",
        "> An example change is to employ a $\\gamma < 0.5$ i.e Choose a $\\gamma$ that is strictly smaller than $0.5$ assuming our existing system with linear function approximation are the above values in the previous question. But realistically choose a sufficiently small $\\gamma$ will do, such that $\\sum_{i}^{\\infty}\\gamma^{i} $ converges due to properties of a geometric series. This was shown by [Tsitsiklis & Van Roy, 1997] and is a suitable method to obtain convergence.\n"
      ]
    },
    {
      "metadata": {
        "colab_type": "text",
        "id": "sC3M-IfEq2bI"
      },
      "cell_type": "markdown",
      "source": [
        "# Part 2: Planning"
      ]
    },
    {
      "metadata": {
        "colab_type": "text",
        "id": "fzpb_dGVjT0O"
      },
      "cell_type": "markdown",
      "source": [
        "## 2.1: Implement Agents\n",
        "\n",
        "We are going to implement 5 agent:\n",
        "- Online Tabular Q-learning\n",
        "- Tabular Experience Replay\n",
        "- Tabular Dyna-Q (with a Tabular model)\n",
        "- Experience Replay with linear function approximation\n",
        "- Dyna-Q with linear function approximation (with a linear model)\n",
        "\n",
        "All agent you implement in this section must share the agent interface\n",
        "\n",
        "#### `__init__(self, number_of_actions, number_of_states, initial_observation)`:\n",
        "The constructor will provide the agent the number of actions, number of states, and the initial observation. You can get such initial observation by instatiating an environment (e.g., `grid = Grid()`), and then calling `grid.get_obs()`. All agents should be in pure Python - do not use TensorFlow to, e.g., compute gradients.  Using `numpy` is fine.\n",
        "\n",
        "#### `step(self, reward, discount, next_observation)`:\n",
        "The step should update the internal values, and return a new action to take. When the discount is zero ($\\text{discount} = \\gamma = 0$), then the `next_observation` will be the initial observation of the next episode.  One shouldn't bootstrap on the value of this state, which can simply be guaranteed when using \"$\\gamma \\cdot v(\\text{next_observation})$\" (for whatever definition of $v$ is appropriate) in the update, because $\\gamma = 0$.  So, the end of an episode can be seamlessly handled with the same step function. Note that to perform updates within the `step` function you typically need to store the previous state and/or action: you may set such previous action to 0 in the constructor for consumption in the first step of the first episode.\n",
        " \n",
        "#### `q_values()`:\n",
        "For tabular agents **only**. This method must return a matrix of Q values of shape: (`number_of_states`, `number_of_actions`)\n",
        "\n",
        "#### `q_values(state)`:\n",
        "For agents with function approximation **only**. This method must return an array of Q values of shape: (`number_of_actions`)\n"
      ]
    },
    {
      "metadata": {
        "colab_type": "text",
        "id": "pIgXk6LblHgV"
      },
      "cell_type": "markdown",
      "source": [
        "### Question 2.1.1\n",
        "**[2 pts]** \n",
        "\n",
        "Implement a trainable **tabular model** of the environment.\n",
        "\n",
        "The Model should implement: \n",
        "* a *next_state* method, taking a state and action and returning the next state in the environment.\n",
        "* a *reward* method, taking a state and action and returning the immediate reward associated to execution that action in that state.\n",
        "* a *discount* method, taking a state and action and returning the discount associated to execution that action in that state.\n",
        "* a *transition* method, taking a state and an action and returning both the next state and the reward associated to that transition.\n",
        "* a *update* method, taking a full transition *(state, action, reward, next_state)* and updating the model (in its reward, discount and next_state component)\n",
        "\n",
        "Given that the environment is deterministic and tabular the model will basically reduce to a simple lookup table."
      ]
    },
    {
      "metadata": {
        "colab_type": "code",
        "id": "13zx3tTrll1g",
        "colab": {}
      },
      "cell_type": "code",
      "source": [
        "class TabularModel(object):\n",
        "\n",
        "  def __init__(self, number_of_states, number_of_actions):\n",
        "    # Initialise the state, reward and discount, these values will need to be updated\n",
        "    # Since these function take s,a they must have s x a size\n",
        "    self.State = np.zeros((number_of_states,number_of_actions),dtype='int8')\n",
        "    self.Reward = np.zeros((number_of_states,number_of_actions),dtype='float32')\n",
        "    self.Gamma = np.zeros((number_of_states,number_of_actions),dtype='float32')\n",
        "    return\n",
        "\n",
        "  def next_state(self, s, a):\n",
        "    # Takes state s and action a we want to return therefore the next state will be S[s,a] since \n",
        "    # S is number_of_states x number_of_actions array\n",
        "    return self.State[s,a]\n",
        "  \n",
        "  def reward(self, s, a):\n",
        "    # Similar next_state(s,a) but for rewards\n",
        "    return self.Reward[s,a]\n",
        "\n",
        "  def discount(self, s, a):\n",
        "    # Similar to next_state but for the discounting factor Gamma\n",
        "    return self.Gamma[s,a]\n",
        "  \n",
        "  def transition(self, state, action):\n",
        "    # Returns the 3 defined functions as described in the task\n",
        "    return (\n",
        "        self.reward(state, action), \n",
        "        self.discount(state, action),\n",
        "        self.next_state(state, action))\n",
        "  \n",
        "  def update(self, state, action, reward, discount, next_state):\n",
        "    # The update is therefore assigning the inputs to the initialised state, reward and discount\n",
        "    self.State[state,action] = next_state\n",
        "    self.Reward[state,action] = reward\n",
        "    self.Gamma[state,action] = discount\n",
        "    return"
      ],
      "execution_count": 0,
      "outputs": []
    },
    {
      "metadata": {
        "colab_type": "text",
        "id": "rPBcz1riy_fD"
      },
      "cell_type": "markdown",
      "source": [
        "### Question 2.1.2\n",
        "\n",
        "**[3 pts]** \n",
        "\n",
        "Implement a trainable **linear model** of the environment.\n",
        "\n",
        "The Model should implement: \n",
        "* a *next_state* method, taking a state and action and returning the predicted next state in the environment.\n",
        "* a *reward* method, taking a state and action and returning the predicted immediate reward associated to execution that action in that state.\n",
        "* a *discount* method, taking a state and action and returning the predicted discount associated to execution that action in that state.\n",
        "* a *transition* method, taking a state and an action and returning both the next state and the reward associated to that transition.\n",
        "* a *update* method, taking a full transition *(state, action, reward, next_state)* and updating the model (in its reward, discount and next_state component)\n",
        "\n",
        "For each selected action, the predicted reward, discount and next state will all be a linear function of the state.\n",
        "* $\\text{s'} = T_a s$\n",
        "* $\\text{r'} = R_a s$\n",
        "* $\\text{g'} = G_a s$\n",
        "\n",
        "Where $T_a$ is a matrix of shape $(\\text{number_of_features}, \\text{number_of_features})$, $R_a$ and $G_a$are vectors of shape $(\\text{number_of_features},)$\n",
        "\n",
        "The parameters of all these linear transformations must be trained by gradient descent. Write down the update to the parameters of the models and implement the update in the model below.\n",
        "\n"
      ]
    },
    {
      "metadata": {
        "colab_type": "code",
        "id": "226SA-xjlyDe",
        "colab": {}
      },
      "cell_type": "code",
      "source": [
        "class LinearModel(object):\n",
        "\n",
        "  def __init__(self, number_of_features, number_of_actions):\n",
        "    # In this case we need to define T to be a tensor because this is our state over the state-action pairs and the features \n",
        "    self.Transition = np.zeros((number_of_actions,number_of_features,number_of_features),dtype='float32')\n",
        "    self.Reward = np.zeros((number_of_actions,number_of_features),dtype='float32')\n",
        "    self.Gamma = np.zeros((number_of_actions,number_of_features),dtype='float32')\n",
        "    return\n",
        "\n",
        "  def next_state(self, s, a):\n",
        "    # As described in the task Ta is a square matrix, for a chosen action a, \n",
        "    Ta = self.Transition[a,:,:] # Need to index on a since we want number_of_features x number_of_features shape\n",
        "    return np.matmul(Ta,s) # As described in task Ta*s \n",
        "  \n",
        "  def reward(self, s, a):\n",
        "    # Similarly since Ra is a vector, it made sense to return all of second index and subset on \n",
        "    Ra = self.Reward[a,:]\n",
        "    return np.matmul(Ra,s)\n",
        "\n",
        "  def discount(self, s, a):\n",
        "    Ga = self.Gamma[a,:]\n",
        "    return np.matmul(Ga,s)\n",
        "\n",
        "  def transition(self, state, action):\n",
        "    return (\n",
        "        self.reward(state, action),\n",
        "        self.discount(state, action),\n",
        "        self.next_state(state, action))\n",
        "\n",
        "  def update(self, state, action, reward, discount, next_state, step_size=0.1):\n",
        "    # Update each of the transition, reward and gamma as a linear function\n",
        "    self.Transition[action,:,:] += step_size * np.matmul((next_state - self.next_state(state,action)).reshape(-1,1) , state.reshape(1,-1))\n",
        "    self.Reward[action,:] += step_size * (reward - self.reward(state,action)) * state\n",
        "    self.Gamma[action,:] += step_size * (discount - self.discount(state,action)) * state\n",
        "    return"
      ],
      "execution_count": 0,
      "outputs": []
    },
    {
      "metadata": {
        "colab_type": "text",
        "id": "omzJxb5ds0Iq"
      },
      "cell_type": "markdown",
      "source": [
        "### Question 2.1.3\n",
        "\n",
        "**[5 pts]**\n",
        "\n",
        "Implement an agent that uses **Experience Replay** to learn action values, at each step:\n",
        "* select actions randomly\n",
        "* accumulate all observed transitions *(s, a, r, s')* in the environment in a *replay buffer*,\n",
        "* apply an online Q-learning update with the most recently sampled transition,\n",
        "* apply multiple Q-learning updates based on transitions sampled (uniformly) from the *replay buffer* (in addition to the online updates).\n",
        "\n",
        "So, the `step` function of the agent will, conceptually, look as follows:\n",
        "\n",
        "1. Append most recent observed transition $(S_t, A_t, R_{t+1}, \\gamma, S_{t+1})$ to replay buffer\n",
        "\n",
        "1. Update values: $Q(S_t, A_t)$ with Q-learning, using transition $(S_t, A_t, R_{t+1}, \\gamma, S_{t+1})$ \n",
        "\n",
        "1. Loop repeat n times:\n",
        "\n",
        "  1. Sample $S, A, R, \\gamma, S'$ from replay\n",
        "  \n",
        "  1. Update values: $Q(S, A)$ with Q-learning, using transition $(S, A, R, \\gamma, S')$ "
      ]
    },
    {
      "metadata": {
        "colab_type": "code",
        "id": "TB9e_reb2pJX",
        "colab": {}
      },
      "cell_type": "code",
      "source": [
        "class ExperienceQ(object):\n",
        "\n",
        "  def __init__(\n",
        "      self, number_of_states, number_of_actions, initial_state, \n",
        "      behaviour_policy, num_offline_updates=0, step_size=0.1):\n",
        "    \n",
        "    # Similar set up to RLCW2 - and so i used similar notation\n",
        "    self._q = np.zeros((number_of_states, number_of_actions))\n",
        "    self._s = initial_state\n",
        "    self._last_action = 0\n",
        "    self._step_size = step_size\n",
        "    self._behaviour_policy = behaviour_policy\n",
        "    self._updates = num_offline_updates\n",
        "    # Create a replay buffer list so that we can append observations\n",
        "    self.Replay_buffer =[]\n",
        "    self.number_of_actions = number_of_actions\n",
        "    return\n",
        "  \n",
        "  @property\n",
        "  def q_values(self):\n",
        "    return self._q\n",
        "\n",
        "  def step(self, reward, discount, next_state):\n",
        "    s = self._s\n",
        "    a = self._last_action\n",
        "    r = reward\n",
        "    g = discount\n",
        "    next_s = next_state\n",
        "    # Appending recent observations\n",
        "    self.Replay_buffer.append((s,a,next_state,r,g))\n",
        "    self._q[s,a] += self._step_size * (r + g * np.max(self._q[next_s]) - self._q[s,a])\n",
        "    \n",
        "    # Making use of the replay buffer\n",
        "    # Create indices to sample from\n",
        "    index = np.floor((len(self.Replay_buffer)*np.random.rand(self._updates)))\n",
        "    for j in range(len(index)):\n",
        "      # Uniformly sampling from replay\n",
        "      state_replay, action_replay, next_state_replay, reward_replay, gamma_replay = self.Replay_buffer[(int)(index[j])]\n",
        "      # Perform update\n",
        "      self._q[state_replay, action_replay] += self._step_size * (reward_replay + gamma_replay*np.max(self._q[next_state_replay]) - self._q[state_replay,action_replay])\n",
        "      \n",
        "    # Return the last action  \n",
        "    self._last_action = self._behaviour_policy(self._q[next_s])\n",
        "    self._s = next_s\n",
        "    \n",
        "    return self._last_action"
      ],
      "execution_count": 0,
      "outputs": []
    },
    {
      "metadata": {
        "colab_type": "text",
        "id": "MKfA7ifHvO-M"
      },
      "cell_type": "markdown",
      "source": [
        "\n",
        "### Question 2.1.4\n",
        "\n",
        "**[5 pts]**\n",
        "\n",
        "Implement an agent that uses **Dyna-Q** to learn action values.\n",
        "* select actions randomly\n",
        "* accumulate all observed transitions *(s, a, r, s')* in the environment in a *replay buffer*,\n",
        "* apply an online Q-learning to Q-value\n",
        "* apply an update to the *model* based on the latest transition\n",
        "* apply multiple Q-learning updates based on transitions *(s, a, model.reward(s), model.next_state(s))* for some previous state and action pair *(s, a)*.\n",
        "\n",
        "So, the `step` function conceptually looks as follows:\n",
        "1. Append most recent observed transition $(S_t, A_t, R_{t+1}, \\gamma, S_{t+1})$ to replay buffer\n",
        "\n",
        "1. Update values: $Q(S_t, A_t)$ with Q-learning, using transition $(S_t, A_t, R_{t+1}, \\gamma, S_{t+1})$\n",
        "\n",
        "1. Update model: $M(S_t, A_t)$, using transition $(S_t, A_t, R_{t+1}, \\gamma, S_{t+1})$\n",
        "\n",
        "1. Loop repeat n times:\n",
        "\n",
        "  1. Sample $S, A$ from replay\n",
        "  \n",
        "  1. Generate $R, S' = M(S, A)$\n",
        "  \n",
        "  1. Update values: $Q(S, A)$ with Q-learning, using transition $(S, A, R, \\gamma, S')$ "
      ]
    },
    {
      "metadata": {
        "colab_type": "code",
        "id": "WdJgVK6_3Q3-",
        "colab": {}
      },
      "cell_type": "code",
      "source": [
        "class DynaQ(object):\n",
        "\n",
        "  def __init__(\n",
        "      self, number_of_states, number_of_actions, initial_state, \n",
        "      behaviour_policy, num_offline_updates=0, step_size=0.1):\n",
        "    # Similar set up to RLCW2 - so same notation was used\n",
        "    self._q = np.zeros((number_of_states, number_of_actions))\n",
        "    self._s = initial_state\n",
        "    self._last_action = 0\n",
        "    self._step_size = step_size\n",
        "    self._behaviour_policy = behaviour_policy\n",
        "    self._updates = num_offline_updates\n",
        "    # Create a replay buffer list so that we can append observations\n",
        "    self.Replay_buffer = []\n",
        "    self.number_of_actions = number_of_actions\n",
        "    # Specify the model we use - in this case it is tabular\n",
        "    self.model = TabularModel(number_of_states, number_of_actions)\n",
        "    return \n",
        "    \n",
        "  @property\n",
        "  def q_values(self):\n",
        "    return self._q\n",
        "\n",
        "  def step(self, reward, discount, next_state):\n",
        "    s = self._s\n",
        "    a = self._last_action\n",
        "    r = reward\n",
        "    g = discount\n",
        "    next_s = next_state\n",
        "    # Appending recent observations to replay buffer\n",
        "    self.Replay_buffer.append((s,a))\n",
        "    self._q[s,a] += self._step_size*(r + g*np.max(self._q[next_s]) - self._q[s,a])\n",
        "    \n",
        "    # model update - updating tabular model with the above \n",
        "    self.model.update(s,a,r,g,next_s)\n",
        "    \n",
        "    # Making use of the replay buffer\n",
        "    # Create indices to sample from\n",
        "    index = np.floor((len(self.Replay_buffer)*np.random.rand(self._updates))) # Had to use floor to make these into integers\n",
        "    for j in range(self._updates):\n",
        "      # Uniformly sample from replay buffer\n",
        "      state_replay, action_replay = self.Replay_buffer[(int)(index[j])]\n",
        "      reward_replay, gamma_replay, next_state_replay = self.model.transition(state_replay, action_replay)\n",
        "      self._q[state_replay, action_replay] += self._step_size*(reward_replay + gamma_replay*np.max(self._q[next_state_replay]) - self._q[state_replay, action_replay])\n",
        "      \n",
        "    # Return the last action  \n",
        "    self._last_action = self._behaviour_policy(self._q[next_s])\n",
        "    self._s = next_s\n",
        "    \n",
        "    return self._last_action"
      ],
      "execution_count": 0,
      "outputs": []
    },
    {
      "metadata": {
        "colab_type": "text",
        "id": "ra01mmV5VPgm"
      },
      "cell_type": "markdown",
      "source": [
        "### Question 2.1.5\n",
        "\n",
        "**[5 pts]**\n",
        "\n",
        "Implement an agent that uses **Experience Replay** to learn action values as a **linear function approximation** over a given set of features.\n",
        "\n",
        "Learn the value estimates via online stochastic gradient descent."
      ]
    },
    {
      "metadata": {
        "colab_type": "code",
        "id": "XOy_bpVa3j6V",
        "colab": {}
      },
      "cell_type": "code",
      "source": [
        "class FeatureExperienceQ(ExperienceQ):\n",
        "\n",
        "  def __init__(self, number_of_features, number_of_actions, *args, **kwargs):\n",
        "    # super() calls FeatureExperienceQ \n",
        "    super(FeatureExperienceQ, self).__init__(number_of_actions=number_of_actions, *args, **kwargs)\n",
        "    self._Transition = np.zeros((number_of_actions,number_of_features), dtype = 'float32')\n",
        "    return \n",
        "\n",
        "  def q(self, state):\n",
        "    return np.matmul(self._Transition, state)\n",
        "\n",
        "  def step(self, reward, discount, next_state):\n",
        "    s = self._s\n",
        "    a = self._last_action\n",
        "    r = reward\n",
        "    g = discount\n",
        "    next_s = next_state\n",
        "    # Appending recent observations to replay buffer\n",
        "    \n",
        "    self.Replay_buffer.append((s,a,next_state,r,g))\n",
        "    self._Transition[a,:] += self._step_size * (r + g*np.max(np.matmul(self._Transition,next_s))-np.matmul(self._Transition,s)[a]) * s\n",
        "    \n",
        "    # Making use of the replay buffer\n",
        "    # Create indices to sample from\n",
        "    index = np.floor((len(self.Replay_buffer)*np.random.rand(self._updates))) # Had to use floor to make these into integers\n",
        "    for j in range(self._updates):\n",
        "      # Uniformly sample from replay buffer\n",
        "      state_replay, action_replay, next_state_replay, reward_replay, gamma_replay = self.Replay_buffer[(int)(index[j])]\n",
        "      self._Transition[action_replay,:] += self._step_size * (reward_replay + gamma_replay*np.max(np.matmul(self._Transition,next_state_replay))-np.matmul(self._Transition,state_replay)[action_replay]) * state_replay\n",
        "\n",
        "      \n",
        "    # Return the last action\n",
        "    self._last_action = self._behaviour_policy(np.matmul(self._Transition,next_s))\n",
        "    self._s = next_s\n",
        "    return self._last_action"
      ],
      "execution_count": 0,
      "outputs": []
    },
    {
      "metadata": {
        "colab_type": "text",
        "id": "hlu3YPGAO9ss"
      },
      "cell_type": "markdown",
      "source": [
        "### Question 2.1.6\n",
        "\n",
        "**[5 pts]**\n",
        "\n",
        "Implement an agent that uses **Dyna-Q** that uses a **linear function approximation** to represent values as well as for the model of the environment.\n",
        "\n",
        "Represent and learn both the **transition model** and the **reward model** as linear, action-dependent transformations of the given set of features.  The transition and reward models should be represented separately.  Implement separate models for each action (instead of, e.g., passing a one-hot identifier of the action in).\n",
        "\n",
        "Learn value estimates, transition model and reward model via online stochastic gradient descent."
      ]
    },
    {
      "metadata": {
        "colab_type": "code",
        "id": "1RxFwgIU39dI",
        "colab": {}
      },
      "cell_type": "code",
      "source": [
        "class FeatureDynaQ(DynaQ):\n",
        "\n",
        "  def __init__(self, number_of_features, number_of_actions, *args, **kwargs):\n",
        "    super(FeatureDynaQ, self).__init__(number_of_actions=number_of_actions, *args, **kwargs)\n",
        "    self._Transition = np.zeros((number_of_actions,number_of_features), dtype = 'float32')\n",
        "    self.model = LinearModel(number_of_features, number_of_actions)\n",
        "    return \n",
        "\n",
        "  def q(self, state):\n",
        "    return np.matmul(self._Transition, state)\n",
        "\n",
        "  def step(self, reward, discount, next_state):\n",
        "    s = self._s\n",
        "    a = self._last_action\n",
        "    r = reward\n",
        "    g = discount\n",
        "    next_s = next_state\n",
        "    self.Replay_buffer.append((s,a))\n",
        "    self._Transition[a,:] += self._step_size * (r + g*np.max(np.matmul(self._Transition,next_s))-np.matmul(self._Transition,s)[a]) * s\n",
        "    \n",
        "    # model update - in this case we want linear function approx\n",
        "    self.model.update(s,a,r,g,next_s,self._step_size)    \n",
        "    \n",
        "    # Making use of the replay buffer\n",
        "    # Create indices to sample from\n",
        "    index = np.floor((len(self.Replay_buffer)*np.random.rand(self._updates))) # Had to use floor to make these into integers\n",
        "    for j in range(self._updates):\n",
        "      # Uniformly sample from replay buffer\n",
        "      state_replay, action_replay = self.Replay_buffer[(int)(index[j])]\n",
        "      reward_replay, gamma_replay, next_state_replay = self.model.transition(state_replay, action_replay)\n",
        "      self._Transition[action_replay,:] += self._step_size * (reward_replay + gamma_replay*np.max(np.matmul(self._Transition,next_state_replay)) - np.matmul(self._Transition, state_replay)[action_replay]) * state_replay\n",
        "      \n",
        "    # Return the last action\n",
        "    self._last_action = self._behaviour_policy(np.matmul(self._Transition,next_s))\n",
        "    self._s = next_s\n",
        "    \n",
        "    return self._last_action"
      ],
      "execution_count": 0,
      "outputs": []
    },
    {
      "metadata": {
        "colab_type": "text",
        "id": "1jZsPzCmDxAh"
      },
      "cell_type": "markdown",
      "source": [
        "## 2.2: Analyse Results\n",
        "\n",
        "You will have to analyse experiments that evaluate each of these 5 agents in various settings, and in terms of different metrics.\n",
        "\n",
        "- Tabular learning: data efficiency\n",
        "- Tabular learning: computational efficiency\n",
        "- Linear function approximation\n",
        "- Learning in non-stationary environments"
      ]
    },
    {
      "metadata": {
        "colab_type": "text",
        "id": "qekcmj4R5Y6J"
      },
      "cell_type": "markdown",
      "source": [
        "### Run data efficiency experiments\n",
        "\n",
        "*Online Q-learning*\n",
        "\n",
        "* $\\text{number_of_steps}$ = $1000$ and $\\text{num_offline_updates}$ = $0$\n",
        "\n",
        "*Experience Replay*\n",
        "\n",
        "* $\\text{number_of_steps}$ = $1000$ and $\\text{num_offline_updates}$ = $30$\n",
        "\n",
        "*DynaQ*\n",
        "\n",
        "* $\\text{number_of_steps}$ = $1000$ and $\\text{num_offline_updates}$ = $30$"
      ]
    },
    {
      "metadata": {
        "colab_type": "code",
        "id": "Iix-yw-MKS4Y",
        "outputId": "1ffeb3fc-5d60-4679-edde-7f1ba3b8f698",
        "colab": {
          "base_uri": "https://localhost:8080/",
          "height": 475
        }
      },
      "cell_type": "code",
      "source": [
        "# Online Q\n",
        "grid = Grid()\n",
        "agent = ExperienceQ(\n",
        "  grid._layout.size, 4, grid.get_obs(),\n",
        "  random_policy, num_offline_updates=0, step_size=0.1)\n",
        "run_experiment(grid, agent, int(1e3))\n",
        "q = agent.q_values.reshape(grid._layout.shape + (4,))\n",
        "plot_action_values(q)"
      ],
      "execution_count": 0,
      "outputs": [
        {
          "output_type": "display_data",
          "data": {
            "image/png": "[encoded data removed]",
            "text/plain": [
              "<Figure size 576x576 with 10 Axes>"
            ]
          },
          "metadata": {
            "tags": []
          }
        }
      ]
    },
    {
      "metadata": {
        "colab_type": "code",
        "id": "ASml5uAeIl4A",
        "outputId": "09ed7b1e-f7f2-44ef-d651-3587f6ffe1bb",
        "colab": {
          "base_uri": "https://localhost:8080/",
          "height": 475
        }
      },
      "cell_type": "code",
      "source": [
        "# Experience Replay\n",
        "grid = Grid()\n",
        "agent = ExperienceQ(\n",
        "  grid._layout.size, 4, grid.get_obs(),\n",
        "  random_policy, num_offline_updates=30, step_size=0.1)\n",
        "run_experiment(grid, agent, int(1e3))\n",
        "q = agent.q_values.reshape(grid._layout.shape + (4,))\n",
        "plot_action_values(q)"
      ],
      "execution_count": 0,
      "outputs": [
        {
          "output_type": "display_data",
          "data": {
            "image/png": "[encoded data removed]",
            "text/plain": [
              "<Figure size 576x576 with 10 Axes>"
            ]
          },
          "metadata": {
            "tags": []
          }
        }
      ]
    },
    {
      "metadata": {
        "colab_type": "code",
        "id": "YG-_cjw-wRzm",
        "outputId": "2a0615e3-87bd-4aec-b096-44cb0b29836f",
        "colab": {
          "base_uri": "https://localhost:8080/",
          "height": 475
        }
      },
      "cell_type": "code",
      "source": [
        "# DynaQ\n",
        "grid = Grid()\n",
        "agent = DynaQ(\n",
        "  grid._layout.size, 4, grid.get_obs(),\n",
        "  random_policy, num_offline_updates=30, step_size=0.1)\n",
        "run_experiment(grid, agent, int(1e3))\n",
        "q = agent.q_values.reshape(grid._layout.shape + (4,))\n",
        "plot_action_values(q)"
      ],
      "execution_count": 0,
      "outputs": [
        {
          "output_type": "display_data",
          "data": {
            "image/png": "[encoded data removed]",
            "text/plain": [
              "<Figure size 576x576 with 10 Axes>"
            ]
          },
          "metadata": {
            "tags": []
          }
        }
      ]
    },
    {
      "metadata": {
        "colab_type": "text",
        "id": "teXnSHqjGfoT"
      },
      "cell_type": "markdown",
      "source": [
        "### Question 2.2.1\n",
        "\n",
        "**[5 pts]**\n",
        "\n",
        "In the experiments above, how do the learnt value estimates differ between the online Q-learning, ExperienceReplay, and Dyna Q agents?\n",
        "\n",
        "Explain meaningful differences in at most 5 sentences.\n",
        "\n",
        ">- The estimated learnt value estimates of ExperienceReplay agent is much more data efficient than that of online Q-learning. Because ExperienceReplay agent has reduced variance of the updates due to the successive updates are not correlated with one another as they would with standard (online) Q-learning. In online Q-learning $v(s)$ looks constant all but the top right corner.\n",
        "\n",
        ">- The (tabular) Dyna-Q agent value estimates look different to ExperienceRelay agent (with same number of offline updates) due to how Dyna-Q updates its value using a model based on the latest transition to generate $R, S'$ from $M(S,A)$. Whereas ExperienceReplay is the same as Dyna-Q without the modelling part and I think this justfies why the $v(s)$ looks similar in some ways. Again Dyna-Q is more data-efficient than online-Q agent due to the number of offline updates allowing faster convergence.\n",
        "\n",
        ">- The value estimates of the online Q-learning agent looks the most different than all other agents, this is because this agent does not incorporate any planning and therefore the action values were equal - this is because each episode adds only one additional step to the policy and so only one step, the last step has been learned so far. "
      ]
    },
    {
      "metadata": {
        "colab_type": "text",
        "id": "ujZNsXFY52fi"
      },
      "cell_type": "markdown",
      "source": [
        "### Run experiments matching computational cost\n",
        "\n",
        "*Online Q-learning*\n",
        "\n",
        "* $\\text{number_of_steps}$ = $31,000$ and $\\text{num_offline_updates}$ = $0$\n",
        "\n",
        "*ExperienceReplay*\n",
        "\n",
        "* $\\text{number_of_steps}$ = $1000$ and $\\text{num_offline_updates}$ = $30$\n",
        "\n",
        "*DynaQ*\n",
        "\n",
        "* $\\text{number_of_steps}$ = $1000$ and $\\text{num_offline_updates}$ = $30$"
      ]
    },
    {
      "metadata": {
        "colab_type": "code",
        "id": "OVVWtGoUwiAe",
        "outputId": "96400deb-a149-4b76-f1ac-d8fe43095870",
        "colab": {
          "base_uri": "https://localhost:8080/",
          "height": 475
        }
      },
      "cell_type": "code",
      "source": [
        "# OnlineQ\n",
        "grid = Grid()\n",
        "agent = ExperienceQ(\n",
        "  grid._layout.size, 4, grid.get_obs(),\n",
        "  random_policy, num_offline_updates=0, step_size=0.1)\n",
        "run_experiment(grid, agent, int(31e3))\n",
        "q = agent.q_values.reshape(grid._layout.shape + (4,))\n",
        "plot_action_values(q)"
      ],
      "execution_count": 0,
      "outputs": [
        {
          "output_type": "display_data",
          "data": {
            "image/png": "[encoded data removed]",
            "text/plain": [
              "<Figure size 576x576 with 10 Axes>"
            ]
          },
          "metadata": {
            "tags": []
          }
        }
      ]
    },
    {
      "metadata": {
        "colab_type": "code",
        "id": "PuoUs8xVxady",
        "outputId": "4a8756c2-1f30-478c-fe23-439de0392923",
        "colab": {
          "base_uri": "https://localhost:8080/",
          "height": 475
        }
      },
      "cell_type": "code",
      "source": [
        "# Experience Replay\n",
        "grid = Grid()\n",
        "agent = ExperienceQ(\n",
        "  grid._layout.size, 4, grid.get_obs(),\n",
        "  random_policy, num_offline_updates=30, step_size=0.1)\n",
        "run_experiment(grid, agent, int(1e3))\n",
        "q = agent.q_values.reshape(grid._layout.shape + (4,))\n",
        "plot_action_values(q)"
      ],
      "execution_count": 0,
      "outputs": [
        {
          "output_type": "display_data",
          "data": {
            "image/png": "[encoded data removed]",
            "text/plain": [
              "<Figure size 576x576 with 10 Axes>"
            ]
          },
          "metadata": {
            "tags": []
          }
        }
      ]
    },
    {
      "metadata": {
        "colab_type": "code",
        "id": "hDOW4dd221L6",
        "outputId": "f0af163a-d530-454d-b115-448809a2d68d",
        "colab": {
          "base_uri": "https://localhost:8080/",
          "height": 475
        }
      },
      "cell_type": "code",
      "source": [
        "# DynaQ\n",
        "grid = Grid()\n",
        "agent = DynaQ(\n",
        "  grid._layout.size, 4, grid.get_obs(),\n",
        "  random_policy, num_offline_updates=30, step_size=0.1)\n",
        "run_experiment(grid, agent, int(1e3))\n",
        "q = agent.q_values.reshape(grid._layout.shape + (4,))\n",
        "plot_action_values(q)"
      ],
      "execution_count": 0,
      "outputs": [
        {
          "output_type": "display_data",
          "data": {
            "image/png": "[encoded data removed]",
            "text/plain": [
              "<Figure size 576x576 with 10 Axes>"
            ]
          },
          "metadata": {
            "tags": []
          }
        }
      ]
    },
    {
      "metadata": {
        "colab_type": "text",
        "id": "nlFwZeKjLFEq"
      },
      "cell_type": "markdown",
      "source": [
        "### Question 2.2.2\n",
        "\n",
        "**[5 pts]**\n",
        "\n",
        "What if sampling from the environment is cheap and we don't care about data efficiency but only care about the amount of computation we use? \n",
        "\n",
        "The experiments directly above this question are the same as those above question 2.2.1, except that we ran the experiments for the same number of **total updates**, rather than the same number of **steps in the environment**, therefore using more data for the online Q-learning algorithm which *only* updates from real data.\n",
        "\n",
        "How do the learnt values, and the relative performances, change, compared the the experiment above question 2.2.1?  Explain in at most 5 sentences.\n",
        "\n",
        ">- In this case since we do not care about data efficiency, the learnt values for online Q-learning has changed significantly. Online Q-learning performs better when the agent runs more steps and this is because this agent has gathered data from interacting with the real world \n",
        "\n",
        ">- When compared to the other agents,  Dyna-Q agent is generating data via a model in it's algorithm which can have some sort of bias. Comparing the ExperienceReplay agent because the number of steps is fixed to $1000$ for both Dyna-Q and ExperienceReplay we can therefore conclude that since online Q-learning has more time-steps the ExperienceReplay agent could have outdated and potentially biased offline updates stored in its buffer (sampling bias)."
      ]
    },
    {
      "metadata": {
        "colab_type": "text",
        "id": "GBLluo2AXMsH"
      },
      "cell_type": "markdown",
      "source": [
        "### Run experiments with linear function approximation\n",
        "\n",
        "We will now use the $\\text{FeatureGrid}$ domain, and consider the same 3 algorithms in the context of linear function approximation.\n",
        "\n",
        "*Online Q-learning*\n",
        "\n",
        "* $\\text{number_of_steps}$ = $100,000$ and $\\text{num_offline_updates}$ = $0$\n",
        "\n",
        "*ExperienceReplay*\n",
        "\n",
        "* $\\text{number_of_steps}$ = $100,000$ and $\\text{num_offline_updates}$ = $10$\n",
        "\n",
        "*DynaQ*\n",
        "\n",
        "* $\\text{number_of_steps}$ = $100,000$ and $\\text{num_offline_updates}$ = $10$"
      ]
    },
    {
      "metadata": {
        "colab_type": "code",
        "id": "zwlRPm1uXMyv",
        "outputId": "099b01bf-50b5-4243-af34-0c99776892c1",
        "colab": {
          "base_uri": "https://localhost:8080/",
          "height": 797
        }
      },
      "cell_type": "code",
      "source": [
        "# OnlineQ\n",
        "grid = FeatureGrid()\n",
        "\n",
        "agent = FeatureExperienceQ(\n",
        "  number_of_features=grid.number_of_features, number_of_actions=4,\n",
        "  number_of_states=grid._layout.size, initial_state=grid.get_obs(),\n",
        "  num_offline_updates=0, step_size=0.01, behaviour_policy=random_policy)\n",
        "run_experiment(grid, agent, int(1e5))\n",
        "q = np.reshape(\n",
        "    np.array([agent.q(grid.int_to_features(i)) for i in xrange(grid.number_of_states)]),\n",
        "    [grid._layout.shape[0], grid._layout.shape[1], 4])\n",
        "plot_action_values(q)\n",
        "plot_greedy_policy(grid, q)"
      ],
      "execution_count": 0,
      "outputs": [
        {
          "output_type": "stream",
          "text": [
            "/usr/local/lib/python2.7/dist-packages/ipykernel_launcher.py:104: MatplotlibDeprecationWarning: pyplot.hold is deprecated.\n",
            "    Future behavior will be consistent with the long-time default:\n",
            "    plot commands add elements without first clearing the\n",
            "    Axes and/or Figure.\n",
            "/usr/local/lib/python2.7/dist-packages/matplotlib/__init__.py:910: MatplotlibDeprecationWarning: axes.hold is deprecated. Please remove it from your matplotlibrc and/or style files.\n",
            "  mplDeprecation)\n",
            "/usr/local/lib/python2.7/dist-packages/matplotlib/rcsetup.py:156: MatplotlibDeprecationWarning: axes.hold is deprecated, will be removed in 3.0\n",
            "  mplDeprecation)\n"
          ],
          "name": "stderr"
        },
        {
          "output_type": "display_data",
          "data": {
            "image/png": "[encoded data removed]",
            "text/plain": [
              "<Figure size 576x576 with 10 Axes>"
            ]
          },
          "metadata": {
            "tags": []
          }
        },
        {
          "output_type": "display_data",
          "data": {
            "image/png": "[encoded data removed]",
            "text/plain": [
              "<Figure size 216x216 with 1 Axes>"
            ]
          },
          "metadata": {
            "tags": []
          }
        }
      ]
    },
    {
      "metadata": {
        "colab_type": "code",
        "id": "Wb6XeKzXcIsi",
        "outputId": "192b7be4-47ec-49ac-ed23-8642f2790324",
        "colab": {
          "base_uri": "https://localhost:8080/",
          "height": 726
        }
      },
      "cell_type": "code",
      "source": [
        "# Experience Replay\n",
        "grid = FeatureGrid()\n",
        "\n",
        "agent = FeatureExperienceQ(\n",
        "  number_of_features=grid.number_of_features, number_of_actions=4,\n",
        "  number_of_states=grid._layout.size, initial_state=grid.get_obs(),\n",
        "  num_offline_updates=10, step_size=0.01, behaviour_policy=random_policy)\n",
        "run_experiment(grid, agent, int(1e5))\n",
        "q = np.reshape(\n",
        "    np.array([agent.q(grid.int_to_features(i)) for i in xrange(grid.number_of_states)]),\n",
        "    [grid._layout.shape[0], grid._layout.shape[1], 4])\n",
        "plot_action_values(q)\n",
        "plot_greedy_policy(grid, q)"
      ],
      "execution_count": 0,
      "outputs": [
        {
          "output_type": "stream",
          "text": [
            "/usr/local/lib/python2.7/dist-packages/ipykernel_launcher.py:104: MatplotlibDeprecationWarning: pyplot.hold is deprecated.\n",
            "    Future behavior will be consistent with the long-time default:\n",
            "    plot commands add elements without first clearing the\n",
            "    Axes and/or Figure.\n"
          ],
          "name": "stderr"
        },
        {
          "output_type": "display_data",
          "data": {
            "image/png": "[encoded data removed]",
            "text/plain": [
              "<Figure size 576x576 with 10 Axes>"
            ]
          },
          "metadata": {
            "tags": []
          }
        },
        {
          "output_type": "display_data",
          "data": {
            "image/png": "[encoded data removed]",
            "text/plain": [
              "<Figure size 216x216 with 1 Axes>"
            ]
          },
          "metadata": {
            "tags": []
          }
        }
      ]
    },
    {
      "metadata": {
        "colab_type": "code",
        "id": "DVDRVknH1MXw",
        "outputId": "c0139608-f7b6-493d-b660-0be9459383d8",
        "colab": {
          "base_uri": "https://localhost:8080/",
          "height": 726
        }
      },
      "cell_type": "code",
      "source": [
        "# DynaQ\n",
        "\n",
        "grid = FeatureGrid()\n",
        "\n",
        "agent = FeatureDynaQ(\n",
        "  number_of_features=grid.number_of_features, \n",
        "  number_of_actions=4,\n",
        "  number_of_states=grid._layout.size, \n",
        "  initial_state=grid.get_obs(),\n",
        "  num_offline_updates=10, \n",
        "  step_size=0.01,\n",
        "  behaviour_policy=random_policy)\n",
        "\n",
        "run_experiment(grid, agent, int(1e5))\n",
        "q = np.reshape(\n",
        "    np.array([agent.q(grid.int_to_features(i)) for i in xrange(grid.number_of_states)]),\n",
        "    [grid._layout.shape[0], grid._layout.shape[1], 4])\n",
        "plot_action_values(q)\n",
        "plot_greedy_policy(grid, q)"
      ],
      "execution_count": 0,
      "outputs": [
        {
          "output_type": "stream",
          "text": [
            "/usr/local/lib/python2.7/dist-packages/ipykernel_launcher.py:104: MatplotlibDeprecationWarning: pyplot.hold is deprecated.\n",
            "    Future behavior will be consistent with the long-time default:\n",
            "    plot commands add elements without first clearing the\n",
            "    Axes and/or Figure.\n"
          ],
          "name": "stderr"
        },
        {
          "output_type": "display_data",
          "data": {
            "image/png": "[encoded data removed]",
            "text/plain": [
              "<Figure size 576x576 with 10 Axes>"
            ]
          },
          "metadata": {
            "tags": []
          }
        },
        {
          "output_type": "display_data",
          "data": {
            "image/png": "[encoded data removed]",
            "text/plain": [
              "<Figure size 216x216 with 1 Axes>"
            ]
          },
          "metadata": {
            "tags": []
          }
        }
      ]
    },
    {
      "metadata": {
        "colab_type": "text",
        "id": "1ese1lc0yNFU"
      },
      "cell_type": "markdown",
      "source": [
        "### Question 2.2.3\n",
        "\n",
        "**[5 pts]**\n",
        "\n",
        "How do the values estimates learnt with function approximation differ from those learnt in the tabular setting, as in the experiment above question 2.2.1?\n",
        "\n",
        "Explain the results in at most 5 sentences.\n",
        "\n",
        ">- The charts above that are outputted are significantly blurrier than the tabular setting despite having more time steps. The reason for the differences is because in linear function approximation the state-action pair would update the entire parameters - including all other states - in the agent which will change in the algorithm. Therefore we can see the results of this where the colour/value of $v(s)$ are fairly similar and hence *blurry*.\n",
        "\n",
        ">- If we look closely at the charts outputted by agents with linear function approximation we can see that the area where there are walls (see the gridworld) are *fairly bright* meaning that we are unable to distinguish a wall from the other states which is a consequence of using linear function approximation.\n",
        "\n",
        "### Question 2.2.4\n",
        "\n",
        "**[5 pts]**\n",
        "\n",
        "Inspect the policies derived by training agents with linear function approximation on `FeatureGrid'. \n",
        "\n",
        "How do they compare to the optimal policy?\n",
        "\n",
        ">- The trivial answer is that all linear function approximation agent(s) are **worse** than the optimal policy. The charts themselves are self-explaining - If we inspect the gridworld we can see that agents get stuck between two states. \n",
        "\n",
        ">- An example is on the online Q-learning (near bottom right of wall) then we can see some of the arrows pointing to each other meaning that the agent is moving between the two states.\n",
        "\n",
        ">- We can also point to the charts of $v(s)$ for the linear function approximation agents when compared to the optimal policy, the areas where the walls are not distinctly defined. Meaning that for unseen states like the walls, their borders are not so clear which may be caused by other states during the update. "
      ]
    },
    {
      "metadata": {
        "colab_type": "text",
        "id": "arP0Nf0XUGrB"
      },
      "cell_type": "markdown",
      "source": [
        "### Run experiments in a non stationary environments\n",
        "\n",
        "We now consider a non-stationary setting where after `pretrain_steps` in the environment, the goal is moved to a new location (from the top-right of the grid to the bottom-left). The agent is allowed to continue training for a (shorter) amount of time in this new setting, and then we evaluate the value estimates.\n",
        "\n",
        "*Online Q-learning*\n",
        "\n",
        "* $\\text{pretrain_steps}$ = $20,000$,  $\\text{num_steps}$ = $666$, and $\\text{num_offline_updates}$ = $0$\n",
        "\n",
        "*ExperienceReplay*\n",
        "\n",
        "* $\\text{pretrain_steps}$ = $20,000$,  $\\text{num_steps}$ = $666$ and $\\text{num_offline_updates}$ = $10$\n",
        "\n",
        "*DynaQ*\n",
        "\n",
        "* $\\text{pretrain_steps}$ = $20,000$,  $\\text{num_steps}$ = $666$ and $\\text{num_offline_updates}$ = $10$"
      ]
    },
    {
      "metadata": {
        "colab_type": "code",
        "id": "6P9lC323X7uH",
        "outputId": "8c9096d3-ccb3-4e54-bddc-22afe4feb84a",
        "colab": {
          "base_uri": "https://localhost:8080/",
          "height": 257
        }
      },
      "cell_type": "code",
      "source": [
        "# Online Q\n",
        "\n",
        "# Train on first environment\n",
        "pretrain_steps = 2e4\n",
        "grid = Grid()\n",
        "agent = ExperienceQ(\n",
        "  grid._layout.size, 4, grid.get_obs(),\n",
        "  random_policy, num_offline_updates=0, step_size=0.1)\n",
        "run_experiment(grid, agent, int(pretrain_steps))\n",
        "q = agent.q_values.reshape(grid._layout.shape + (4,))\n",
        "\n",
        "# Change goal location\n",
        "alt_grid = AltGrid()\n",
        "run_experiment(alt_grid, agent, int(pretrain_steps / 30))\n",
        "alt_q = agent.q_values.reshape(alt_grid._layout.shape + (4,))\n",
        "plot_state_value(alt_q)"
      ],
      "execution_count": 0,
      "outputs": [
        {
          "output_type": "display_data",
          "data": {
            "image/png": "[encoded data removed]",
            "text/plain": [
              "<Figure size 288x288 with 2 Axes>"
            ]
          },
          "metadata": {
            "tags": []
          }
        }
      ]
    },
    {
      "metadata": {
        "colab_type": "code",
        "id": "bq5msw1iY-Q5",
        "outputId": "0552ce41-af5a-49b8-f007-1288dbc2889b",
        "colab": {
          "base_uri": "https://localhost:8080/",
          "height": 257
        }
      },
      "cell_type": "code",
      "source": [
        "# Experience Replay\n",
        "\n",
        "# Train on first environment\n",
        "pretrain_steps = 2e4\n",
        "grid = Grid()\n",
        "agent = ExperienceQ(\n",
        "  grid._layout.size, 4, grid.get_obs(),\n",
        "  random_policy, num_offline_updates=10, step_size=0.1)\n",
        "run_experiment(grid, agent, int(pretrain_steps))\n",
        "q = agent.q_values.reshape(grid._layout.shape + (4,))\n",
        "\n",
        "# Change goal location\n",
        "alt_grid = AltGrid()\n",
        "run_experiment(alt_grid, agent, int(pretrain_steps / 30))\n",
        "alt_q = agent.q_values.reshape(alt_grid._layout.shape + (4,))\n",
        "plot_state_value(alt_q)"
      ],
      "execution_count": 0,
      "outputs": [
        {
          "output_type": "display_data",
          "data": {
            "image/png": "[encoded data removed]",
            "text/plain": [
              "<Figure size 288x288 with 2 Axes>"
            ]
          },
          "metadata": {
            "tags": []
          }
        }
      ]
    },
    {
      "metadata": {
        "colab_type": "code",
        "id": "AwztU4EbUXe0",
        "outputId": "3edf94fd-60cb-41b7-d48f-914683fb9ef6",
        "colab": {
          "base_uri": "https://localhost:8080/",
          "height": 257
        }
      },
      "cell_type": "code",
      "source": [
        "# DynaQ\n",
        "\n",
        "# Train on first environment\n",
        "pretrain_steps = 2e4\n",
        "grid = Grid()\n",
        "agent = DynaQ(\n",
        "  grid._layout.size, 4, grid.get_obs(),\n",
        "  random_policy, num_offline_updates=10, step_size=0.1)\n",
        "run_experiment(grid, agent, int(pretrain_steps))\n",
        "q = agent.q_values.reshape(grid._layout.shape + (4,))\n",
        "\n",
        "# Change goal location\n",
        "alt_grid = AltGrid()\n",
        "run_experiment(alt_grid, agent, int(pretrain_steps / 30))\n",
        "alt_q = agent.q_values.reshape(alt_grid._layout.shape + (4,))\n",
        "plot_state_value(alt_q)"
      ],
      "execution_count": 0,
      "outputs": [
        {
          "output_type": "display_data",
          "data": {
            "image/png": "[encoded data removed]",
            "text/plain": [
              "<Figure size 288x288 with 2 Axes>"
            ]
          },
          "metadata": {
            "tags": []
          }
        }
      ]
    },
    {
      "metadata": {
        "colab_type": "text",
        "id": "lc8tJPpXyNM7"
      },
      "cell_type": "markdown",
      "source": [
        "### Question 2.2.5\n",
        "\n",
        "**[5 pts]**\n",
        "\n",
        "Compare the value estimates of online Q-learning and Dyna-Q, after training also on the new goal location.\n",
        "\n",
        "Explain what you see in at most 5 sentences. \n",
        "\n",
        "> - The Dyna-Q agent seems to find out about the change in goal very quickly since the bottom-left corner is very bright but also the top right corner due to being trained on the original goal. Checking back at the algorithm, since Dyna-Q uses recent observations $S,A$ to generate $R, S'$ to update $Q(S,A)$ values and so the data generated by the model may have picked up changes in the environment. \n",
        "\n",
        "\n",
        ">- When comparing to online Q-learning, if we look at the left corner we see 2 $v(s)$ sqaures that are strangely brighter than those around it. That being said, this could mean that the agent begins to find out about the change but still the $v(s)$ is low around that region - therefore if we have more number of steps i think this agent can converge. The reason for this is that because online Q-learning is interacting with the environment with the new goal and the algorithm therefore updates it's $Q$ values in this environment. In this scenario the best performing agent is Dyna-Q\n",
        "\n",
        "\n",
        "### Question 2.2.6\n",
        "\n",
        "**[5 pts]**\n",
        "\n",
        "Compare the value estimates of online Experience Replay and Dyna-Q, after training also on the new goal location, explain what you see.\n",
        "\n",
        "> - Looking at Experience Replay agent we can see that the value estimate $v(s)$ looks pretty similar to the experiment trained on the original goal. This implies that the agent does not even know about the change in goal? In the algorithm I see a replay buffer where the recent parameters are stored. And so this could mean that the agent can be still dependent on this which we know due to the change in environment that the replay buffer is now outdated and biased towards the original goal which leads to the agent detecting the change slowly.\n",
        "\n",
        ">- Comparing this to Dyna-Q, we see a completely different story where the bottom left and top right corners are bright implying that the agent has detected the change quickly and again is plausible to conclude that the algorithm has a data generative model to detect the change in goal (mentioned in prev question) to allow for faster convergence, again Dyna-Q is much better than the other agents in performance given the change in environment/goal."
      ]
    },
    {
      "metadata": {
        "colab_type": "text",
        "id": "L9vr-iRu5pWD"
      },
      "cell_type": "markdown",
      "source": [
        "# Part 3: Policy Gradients"
      ]
    },
    {
      "metadata": {
        "colab_type": "text",
        "id": "iIRC73HLq6VH"
      },
      "cell_type": "markdown",
      "source": [
        "## 3.1. Policy Gradients"
      ]
    },
    {
      "metadata": {
        "colab_type": "text",
        "id": "3GC9gSqYrJfB"
      },
      "cell_type": "markdown",
      "source": [
        "Consider a simple 2x2 gridworld.\n",
        "\n",
        "- The agent starts in one of the top cells.\n",
        "- Both cells on the bottom row are terminal.\n",
        "- The bottom left cell provides a negative -1 reward.\n",
        "- The bottom right cell provides a positive +1 reward.\n",
        "- There is a fixed discount of 0.9\n"
      ]
    },
    {
      "metadata": {
        "cellView": "both",
        "colab_type": "code",
        "id": "6EB_E5npX9KM",
        "outputId": "e0f9037c-de8c-4445-d762-1a30cf7f1588",
        "colab": {
          "base_uri": "https://localhost:8080/",
          "height": 87
        }
      },
      "cell_type": "code",
      "source": [
        "#@title MDP rewards\n",
        "\n",
        "plt.figure(figsize=(3,0.7))\n",
        "clust_data = np.array([[0, 0], [-1, 1]])\n",
        "collabel=(\"col 1\", \"col 2\", \"col 3\")\n",
        "the_table = plt.table(cellText=clust_data, loc='center')\n",
        "plt.axis('tight')\n",
        "plt.axis('off')\n",
        "plt.show()"
      ],
      "execution_count": 0,
      "outputs": [
        {
          "output_type": "display_data",
          "data": {
            "image/png": "[encoded data removed]",
            "text/plain": [
              "<Figure size 216x50.4 with 1 Axes>"
            ]
          },
          "metadata": {
            "tags": []
          }
        }
      ]
    },
    {
      "metadata": {
        "colab_type": "text",
        "id": "Qf8XzXLbtW3K"
      },
      "cell_type": "markdown",
      "source": [
        "### Question 3.1.1\n",
        "\n",
        "**[1 pts]**\n",
        "\n",
        "What are the *action values*  if the agent can perceive exactly in what state it is?\n",
        "\n",
        ">- If the agent can percieve exactly what state it is in, then the action values or $Q$ are the following:\n",
        "\n",
        ">- Suppose we start in the top left (denoted by $L$) state then since this is a deterministic MDP then our Q value is:\n",
        "\n",
        "$$ Q(L, Right) = \\mathbb{E}(R_{t+1} + \\gamma\\max_{a'}(Q(s',a'))) $$ \n",
        "\n",
        "$$ Q(L, Right) = \\mathbb{E}(0 + 0.9*1)) = 0.9 $$ \n",
        "\n",
        ">- A Q table for each state and action can be formed:\n",
        "\n",
        ">|Up | Down | Left | Right\n",
        ">---|---|:---|:---:|---:\n",
        ">Left State|0|-1|0|0.9\n",
        ">Right State|0.9|1|0|0.9\n",
        "\n",
        "\n",
        "### Question 3.1.2\n",
        "\n",
        "**[4 pts]**\n",
        "\n",
        "What are the *action values*  if the agent cannot tell whether he is in the right or left column?\n",
        "\n",
        ">- Where the $\\nabla$ operator is the gradient function wrt the parameters (see subscript) and $J(\\theta)$ is action-value function. Now we can use the policy gradient theorem to show what the quantity $\\nabla_{\\theta}J(\\theta)$ is.\n",
        "\n",
        "$$ \\nabla_{\\theta}J(\\theta) = \\mathbb{E}_{\\pi}( \\nabla_{\\theta}(\\log[\\pi_{\\theta}(s|a)])Q(s,a)) $$\n",
        "\n",
        ">- Where $\\pi_{\\theta}(s|a)$ policy which is differentiable whenever it is non zero. An example policy is that it can be a softmax or Gaussian policy.\n",
        "\n",
        ">- Here we assume a probability of taking an action under some policy for example (see RL slide 6 for aliased gridworld example), since there are there are 2 actions to take in each state, therefore the total actions are 4 and with equal probability as a start we have the following (we could have taken a softmax policy):\n",
        "\n",
        "$$ \\pi_{\\theta} = (\\text{Wall to N and W, move S}) =  0.25$$\n",
        "$$ \\pi_{\\theta} = (\\text{Wall to N and W, move E}) =  0.25$$\n",
        "$$ \\pi_{\\theta} = (\\text{Wall to N and E, move S}) =  0.25$$\n",
        "$$ \\pi_{\\theta} = (\\text{Wall to N and E, move W}) =  0.25$$\n",
        "\n",
        ">- Therefore our action values are the following by applying the policy gradient theorem using the above assumptions:\n",
        "\n",
        ">|Up | Down | Left | Right\n",
        ">---|---|:---|:---:|---:\n",
        ">Left State|0|0.60|0|-0.54\n",
        ">Right State|-0.54|-0.60|0|-0.54\n",
        "\n",
        "### Question 3.1.3\n",
        "\n",
        "**[10 pts]**\n",
        "\n",
        "What is the optimal policy if the agent cannot tell whether he is in the right or left column??\n",
        "\n",
        ">- Suppose there exists a probability $p$ moving east and therefore a probability $1-p$ of moving south. Since there is only reward when we take action of \"south\" and that the *undiscounted* reward will always be at the first step if we go down and subsequent movements and rewards will be discounted. \n",
        "\n",
        ">- Suppose we are in the right state, let $X$ denotes the random variable of the agent moving south and applying properties of a geometric series we have the following:\n",
        "\n",
        "$$ v_{\\pi}(\\text{Right State}) = \\sum_{i} \\mathbb{P}(X = i)\\gamma^{i-1} =  \\sum_{i} p^{i-1}(1-p)\\gamma^{i-1} = \\frac{1-p}{1-p\\gamma}$$\n",
        "\n",
        ">- Suppose we are in the left state, then if we move south then we receive a reward of $-1$ with probability $1-p$ but if the agent moves east then we are in the situation as if we started in the the right state which is  $v_{\\pi}(\\text{Right State}) $ because the agent doesn't know where it is! Therefore the following relation holds:\n",
        "\n",
        "$$ v_{\\pi}(\\text{Left State}) = -1*(1-p) + \\frac{1-p}{1-p\\gamma}$$\n",
        "\n",
        ">- To obtain the optimal policy we apply the policy gradient theorem on $ J(\\theta = p) = q*v_{\\pi}(\\text{Left State}) + (1-q)*v_{\\pi}(\\text{Right State})$ for some $q$ which tells us the likelihood of starting in a given state.\n",
        "\n",
        ">- $\\nabla_{p}J(p) = q*(\\frac{\\gamma(\\gamma p^{2}-2\\gamma + 1)}{(\\gamma p - 1)^2}) + (1-q)(\\frac{\\gamma - 1}{(\\gamma p - 1)^2}) $\n",
        "\n",
        ">- $\\nabla_{p}J(p) = 0 $ and solve for $p$ to find the optimal policy.\n"
      ]
    },
    {
      "metadata": {
        "colab_type": "code",
        "id": "WO5bV7Fqrmgm",
        "colab": {}
      },
      "cell_type": "code",
      "source": [
        ""
      ],
      "execution_count": 0,
      "outputs": []
    }
  ]
}